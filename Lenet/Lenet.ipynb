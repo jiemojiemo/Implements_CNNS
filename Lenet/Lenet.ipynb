{
 "cells": [
  {
   "cell_type": "markdown",
   "metadata": {},
   "source": [
    "## Lenet\n",
    "\n",
    "Lenet基本算是最早的CNN了，其中很多设定仍然沿用至今，例如Pooling层的应用。\n",
    "Lenet的结构一张图就可解释清楚,其中卷积大小都是$5*5$,stride=1,padding='valid'\n",
    "![Lenet](lenet.jpg)\n",
    "接下来给出keras的实现版本,并用fashion-mnist来测试模型的效果"
   ]
  },
  {
   "cell_type": "code",
   "execution_count": 15,
   "metadata": {},
   "outputs": [],
   "source": [
    "import numpy as np\n",
    "\n",
    "np.random.seed(0)\n",
    "\n",
    "from keras import layers\n",
    "from keras import models\n",
    "from keras import datasets\n",
    "from keras import utils\n",
    "\n",
    "import matplotlib.pyplot as plt"
   ]
  },
  {
   "cell_type": "code",
   "execution_count": 4,
   "metadata": {},
   "outputs": [
    {
     "name": "stdout",
     "output_type": "stream",
     "text": [
      "x_train shape:(60000, 28, 28, 1), y_train shape:(60000, 10)\n",
      "x_test shape:(10000, 28, 28, 1), y_test shape:(10000, 10)\n"
     ]
    }
   ],
   "source": [
    "# load fashion-mnist\n",
    "(x_train,y_train),(x_test, y_test) = datasets.fashion_mnist.load_data()\n",
    "\n",
    "# normalization\n",
    "x_train = x_train.astype('float') / 255.0\n",
    "x_test = x_test.astype('float') / 255.0\n",
    "# expand dim for cnn\n",
    "x_train = np.expand_dims(x_train, axis=3)\n",
    "x_test = np.expand_dims(x_test, axis=3)\n",
    "\n",
    "# one-hot encoding\n",
    "y_train = utils.to_categorical(y_train, 10)\n",
    "y_test = utils.to_categorical(y_test, 10)\n",
    "\n",
    "print('x_train shape:{}, y_train shape:{}'.format(x_train.shape, y_train.shape))\n",
    "print('x_test shape:{}, y_test shape:{}'.format(x_test.shape, y_test.shape))"
   ]
  },
  {
   "cell_type": "code",
   "execution_count": 10,
   "metadata": {},
   "outputs": [],
   "source": [
    "# build Lenet\n",
    "# 下面的实现中，结构与原来的一样，但是参数稍微做了修改\n",
    "def build_Lenet():\n",
    "    model = models.Sequential()\n",
    "    \n",
    "    # conv-1\n",
    "    model.add(layers.Conv2D(16, 5, strides=(1,1), activation='relu', input_shape=(28,28,1)))\n",
    "    # pooling-1\n",
    "    model.add(layers.MaxPool2D(pool_size=(2,2), strides=(2,2)))\n",
    "    \n",
    "    # conv-2\n",
    "    model.add(layers.Conv2D(32, 5, strides=(1,1), activation='relu'))\n",
    "    # pooling-2\n",
    "    model.add(layers.MaxPool2D(pool_size=(2,2), strides=(2,2)))\n",
    "    \n",
    "    model.add(layers.Flatten())\n",
    "    model.add(layers.Dense(128, activation='relu'))\n",
    "    model.add(layers.Dense(256, activation='relu'))\n",
    "    model.add(layers.Dense(10, activation='softmax'))\n",
    "    \n",
    "    return model\n",
    "    "
   ]
  },
  {
   "cell_type": "code",
   "execution_count": 11,
   "metadata": {},
   "outputs": [],
   "source": [
    "model = build_Lenet()\n",
    "utils.plot_model(model, to_file='Lenet_model.png', show_shapes=True)\n",
    "model.compile(optimizer='adam', loss='categorical_crossentropy', metrics=['acc'])"
   ]
  },
  {
   "cell_type": "markdown",
   "metadata": {},
   "source": [
    "我们的模型大概长这样![Lenet_model](Lenet_model.png)"
   ]
  },
  {
   "cell_type": "code",
   "execution_count": 12,
   "metadata": {},
   "outputs": [
    {
     "name": "stdout",
     "output_type": "stream",
     "text": [
      "Train on 48000 samples, validate on 12000 samples\n",
      "Epoch 1/20\n",
      "48000/48000 [==============================] - 7s 147us/step - loss: 0.5720 - acc: 0.7889 - val_loss: 0.4053 - val_acc: 0.8501\n",
      "Epoch 2/20\n",
      "48000/48000 [==============================] - 4s 79us/step - loss: 0.3657 - acc: 0.8668 - val_loss: 0.3528 - val_acc: 0.8758\n",
      "Epoch 3/20\n",
      "48000/48000 [==============================] - 4s 80us/step - loss: 0.3114 - acc: 0.8857 - val_loss: 0.2993 - val_acc: 0.8918\n",
      "Epoch 4/20\n",
      "48000/48000 [==============================] - 4s 80us/step - loss: 0.2798 - acc: 0.8972 - val_loss: 0.2880 - val_acc: 0.8965\n",
      "Epoch 5/20\n",
      "48000/48000 [==============================] - 4s 80us/step - loss: 0.2552 - acc: 0.9058 - val_loss: 0.2722 - val_acc: 0.8988\n",
      "Epoch 6/20\n",
      "48000/48000 [==============================] - 4s 81us/step - loss: 0.2353 - acc: 0.9116 - val_loss: 0.2756 - val_acc: 0.9005\n",
      "Epoch 7/20\n",
      "48000/48000 [==============================] - 4s 81us/step - loss: 0.2199 - acc: 0.9165 - val_loss: 0.2765 - val_acc: 0.9028\n",
      "Epoch 8/20\n",
      "48000/48000 [==============================] - 4s 80us/step - loss: 0.2042 - acc: 0.9236 - val_loss: 0.2587 - val_acc: 0.9047\n",
      "Epoch 9/20\n",
      "48000/48000 [==============================] - 4s 79us/step - loss: 0.1881 - acc: 0.9290 - val_loss: 0.2803 - val_acc: 0.8984\n",
      "Epoch 10/20\n",
      "48000/48000 [==============================] - 4s 79us/step - loss: 0.1795 - acc: 0.9333 - val_loss: 0.2827 - val_acc: 0.9022\n",
      "Epoch 11/20\n",
      "48000/48000 [==============================] - 4s 80us/step - loss: 0.1664 - acc: 0.9378 - val_loss: 0.2763 - val_acc: 0.9036\n",
      "Epoch 12/20\n",
      "48000/48000 [==============================] - 4s 80us/step - loss: 0.1526 - acc: 0.9423 - val_loss: 0.2913 - val_acc: 0.9010\n",
      "Epoch 13/20\n",
      "48000/48000 [==============================] - 4s 80us/step - loss: 0.1437 - acc: 0.9455 - val_loss: 0.2833 - val_acc: 0.9088\n",
      "Epoch 14/20\n",
      "48000/48000 [==============================] - 4s 81us/step - loss: 0.1303 - acc: 0.9514 - val_loss: 0.2889 - val_acc: 0.9052\n",
      "Epoch 15/20\n",
      "48000/48000 [==============================] - 4s 81us/step - loss: 0.1221 - acc: 0.9539 - val_loss: 0.3006 - val_acc: 0.9066\n",
      "Epoch 16/20\n",
      "48000/48000 [==============================] - 4s 80us/step - loss: 0.1137 - acc: 0.9567 - val_loss: 0.2971 - val_acc: 0.9068\n",
      "Epoch 17/20\n",
      "48000/48000 [==============================] - 4s 80us/step - loss: 0.1043 - acc: 0.9604 - val_loss: 0.3388 - val_acc: 0.9024\n",
      "Epoch 18/20\n",
      "48000/48000 [==============================] - 4s 79us/step - loss: 0.0987 - acc: 0.9632 - val_loss: 0.3468 - val_acc: 0.9029\n",
      "Epoch 19/20\n",
      "48000/48000 [==============================] - 4s 79us/step - loss: 0.0911 - acc: 0.9667 - val_loss: 0.3502 - val_acc: 0.9093\n",
      "Epoch 20/20\n",
      "48000/48000 [==============================] - 4s 79us/step - loss: 0.0845 - acc: 0.9683 - val_loss: 0.3590 - val_acc: 0.9042\n"
     ]
    }
   ],
   "source": [
    "# training\n",
    "epochs = 20\n",
    "batch_size = 64\n",
    "history = model.fit(x_train, y_train, batch_size=batch_size, epochs=epochs, validation_split=0.2)"
   ]
  },
  {
   "cell_type": "code",
   "execution_count": 18,
   "metadata": {},
   "outputs": [],
   "source": [
    "def plot_loss(history):\n",
    "    loss = history.history['loss']\n",
    "    val_loss = history.history['val_loss']\n",
    "    epochs = range(1, len(loss)+1)\n",
    "    \n",
    "    plt.figure()\n",
    "    plt.plot(epochs, loss, 'bo', label='Training loss')\n",
    "    plt.plot(epochs, val_loss, 'b', label='Validation loss')\n",
    "    plt.title('Training and validation loss')\n",
    "    plt.legend()\n",
    "    plt.show()\n",
    "    \n",
    "def plot_acc(history):\n",
    "    acc = history.history['acc']\n",
    "    val_acc = history.history['val_acc']\n",
    "    epochs = range(1, len(acc)+1)\n",
    "\n",
    "    plt.figure()\n",
    "    plt.plot(epochs, acc, 'bo', label='Training acc')\n",
    "    plt.plot(epochs, val_acc, 'b', label='Validation acc')\n",
    "    plt.title('Training and validation accuracy')\n",
    "    plt.legend()"
   ]
  },
  {
   "cell_type": "code",
   "execution_count": 19,
   "metadata": {},
   "outputs": [
    {
     "data": {
      "image/png": "[encoded data removed]",
      "text/plain": [
       "<Figure size 432x288 with 1 Axes>"
      ]
     },
     "metadata": {},
     "output_type": "display_data"
    }
   ],
   "source": [
    "plot_loss(history)"
   ]
  },
  {
   "cell_type": "code",
   "execution_count": 20,
   "metadata": {},
   "outputs": [
    {
     "data": {
      "image/png": "[encoded data removed]",
      "text/plain": [
       "<Figure size 432x288 with 1 Axes>"
      ]
     },
     "metadata": {},
     "output_type": "display_data"
    }
   ],
   "source": [
    "plot_acc(history)"
   ]
  },
  {
   "cell_type": "code",
   "execution_count": 21,
   "metadata": {},
   "outputs": [
    {
     "name": "stdout",
     "output_type": "stream",
     "text": [
      "10000/10000 [==============================] - 0s 46us/step\n"
     ]
    },
    {
     "data": {
      "text/plain": [
       "[0.3797126607656479, 0.9018]"
      ]
     },
     "execution_count": 21,
     "metadata": {},
     "output_type": "execute_result"
    }
   ],
   "source": [
    "# test\n",
    "model.evaluate(x_test, y_test)"
   ]
  },
  {
   "cell_type": "markdown",
   "metadata": {},
   "source": [
    "## 结论\n",
    "+ Lenet 定义了CNN的基本组件，是CNN的鼻祖\n",
    "+ 从训练结果来看，明显过拟合了，但是准确率仍然能达到90%左右，毕竟这是在20年前提出的模型，对于这样的结果，应该是相当满意的"
   ]
  }
 ],
 "metadata": {
  "kernelspec": {
   "display_name": "Python 3",
   "language": "python",
   "name": "python3"
  },
  "language_info": {
   "codemirror_mode": {
    "name": "ipython",
    "version": 3
   },
   "file_extension": ".py",
   "mimetype": "text/x-python",
   "name": "python",
   "nbconvert_exporter": "python",
   "pygments_lexer": "ipython3",
   "version": "3.6.4"
  }
 },
 "nbformat": 4,
 "nbformat_minor": 2
}
